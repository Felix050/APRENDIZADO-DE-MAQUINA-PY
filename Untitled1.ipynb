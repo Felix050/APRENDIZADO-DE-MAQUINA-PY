{
  "nbformat": 4,
  "nbformat_minor": 0,
  "metadata": {
    "colab": {
      "provenance": [],
      "authorship_tag": "ABX9TyN8sUaXI2TAaYkBc+2hbcpl",
      "include_colab_link": true
    },
    "kernelspec": {
      "name": "python3",
      "display_name": "Python 3"
    },
    "language_info": {
      "name": "python"
    }
  },
  "cells": [
    {
      "cell_type": "markdown",
      "metadata": {
        "id": "view-in-github",
        "colab_type": "text"
      },
      "source": [
        "<a href=\"https://colab.research.google.com/github/Felix050/APRENDIZADO-DE-MAQUINA-PY/blob/master/Untitled1.ipynb\" target=\"_parent\"><img src=\"https://colab.research.google.com/assets/colab-badge.svg\" alt=\"Open In Colab\"/></a>"
      ]
    },
    {
      "cell_type": "markdown",
      "source": [
        "Exercicio 7 - Funções\n",
        "\n",
        "Faça um programa com uma função chamada somaImposto. A função possui dois parâmetros de entrada: taxaImpostoVendas, que é a quantia de imposto sobre vendas expressa em porcentagem e custo, que é o custo de um item antes do imposto. A função retorna o valor de custo incluindo o imposto sobre vendas."
      ],
      "metadata": {
        "id": "UOV97nyQG1CW"
      }
    },
    {
      "cell_type": "code",
      "execution_count": null,
      "metadata": {
        "id": "fBBSTnrFGyni"
      },
      "outputs": [],
      "source": [
        "#def notafinal(nota, diasatraso):\n",
        "  #  if (diasatraso == 0):\n",
        "  #    return nota\n",
        "  #  diasatraso-=1\n",
        "  #  return notafinal(nota-(nota*0.25), diasatraso)"
      ]
    },
    {
      "cell_type": "code",
      "source": [
        "# Função que calcula o custo com imposto\n",
        "def somaImposto(taxaImpostoVendas, custo):\n",
        "    # Calcula o valor do imposto\n",
        "    imposto = (taxaImpostoVendas / 100) * custo\n",
        "    # Retorna o custo total incluindo o imposto\n",
        "    return custo + imposto\n",
        "\n",
        "# Entrada de dados\n",
        "taxa = float(input(\"Digite a taxa de imposto sobre vendas (em %): \"))\n",
        "custo_item = float(input(\"Digite o custo do item (sem imposto): \"))\n",
        "\n",
        "# Calculando o custo com imposto\n",
        "custo_com_imposto = somaImposto(taxa, custo_item)\n",
        "\n",
        "# Exibindo o resultado\n",
        "print(f\"O custo do item incluindo o imposto é: {custo_com_imposto:.2f}\")\n",
        "\n"
      ],
      "metadata": {
        "colab": {
          "base_uri": "https://localhost:8080/"
        },
        "id": "NzuL6fHAG5z9",
        "outputId": "b732ee4d-bb42-4f06-9a5c-6de3d88bd87d"
      },
      "execution_count": 1,
      "outputs": [
        {
          "output_type": "stream",
          "name": "stdout",
          "text": [
            "Digite a taxa de imposto sobre vendas (em %): 50\n",
            "Digite o custo do item (sem imposto): 100\n",
            "O custo do item incluindo o imposto é: 150.00\n"
          ]
        }
      ]
    }
  ]
}