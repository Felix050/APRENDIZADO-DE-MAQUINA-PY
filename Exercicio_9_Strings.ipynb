{
  "nbformat": 4,
  "nbformat_minor": 0,
  "metadata": {
    "colab": {
      "provenance": [],
      "authorship_tag": "ABX9TyPlD1IjcsT9bZA0/QLHXvpL",
      "include_colab_link": true
    },
    "kernelspec": {
      "name": "python3",
      "display_name": "Python 3"
    },
    "language_info": {
      "name": "python"
    }
  },
  "cells": [
    {
      "cell_type": "markdown",
      "metadata": {
        "id": "view-in-github",
        "colab_type": "text"
      },
      "source": [
        "<a href=\"https://colab.research.google.com/github/Felix050/APRENDIZADO-DE-MAQUINA-PY/blob/master/Exercicio_9_Strings.ipynb\" target=\"_parent\"><img src=\"https://colab.research.google.com/assets/colab-badge.svg\" alt=\"Open In Colab\"/></a>"
      ]
    },
    {
      "cell_type": "markdown",
      "source": [
        "Exercicio 9 - Strings\n",
        "\n",
        "Faça um programa que permita ao usuário digitar o seu nome e em seguida mostre o nome do usuário de trás para frente\n",
        "utilizando somente letras maiúsculas."
      ],
      "metadata": {
        "id": "DrCORl6QL997"
      }
    },
    {
      "cell_type": "code",
      "execution_count": null,
      "metadata": {
        "id": "M97qiH2IL7xE"
      },
      "outputs": [],
      "source": [
        "#str = 'nome'\n",
        "\n",
        "#nome = str.upper()"
      ]
    },
    {
      "cell_type": "code",
      "source": [
        "User_name = input('Digite seu nome: ')\n",
        "print(User_name[::-1].upper())"
      ],
      "metadata": {
        "colab": {
          "base_uri": "https://localhost:8080/"
        },
        "id": "fxu9uOZaMBij",
        "outputId": "53d864fa-e260-4b49-c777-760f90a9f5cb"
      },
      "execution_count": 1,
      "outputs": [
        {
          "output_type": "stream",
          "name": "stdout",
          "text": [
            "Digite seu nome: Vinicius\n",
            "SUICINIV\n"
          ]
        }
      ]
    }
  ]
}