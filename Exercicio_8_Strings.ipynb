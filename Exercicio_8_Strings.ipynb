{
  "nbformat": 4,
  "nbformat_minor": 0,
  "metadata": {
    "colab": {
      "provenance": [],
      "authorship_tag": "ABX9TyNp0R4N59LbpFX6PflBXuv7",
      "include_colab_link": true
    },
    "kernelspec": {
      "name": "python3",
      "display_name": "Python 3"
    },
    "language_info": {
      "name": "python"
    }
  },
  "cells": [
    {
      "cell_type": "markdown",
      "metadata": {
        "id": "view-in-github",
        "colab_type": "text"
      },
      "source": [
        "<a href=\"https://colab.research.google.com/github/Felix050/APRENDIZADO-DE-MAQUINA-PY/blob/master/Exercicio_8_Strings.ipynb\" target=\"_parent\"><img src=\"https://colab.research.google.com/assets/colab-badge.svg\" alt=\"Open In Colab\"/></a>"
      ]
    },
    {
      "cell_type": "markdown",
      "source": [
        "Exercicio 8 - Strings\n",
        "\n",
        "Tamanho de strings. Faça um programa que leia 2 strings e informe o conteúdo delas seguido do seu comprimento. Informe também se as duas strings possuem o mesmo comprimento e são iguais ou diferentes no conteúdo.\n",
        "\n",
        "Compara duas strings\n",
        "String 1: Brasil Hexa 2006\n",
        "String 2: Brasil! Hexa 2006!\n",
        "Tamanho de \"Brasil Hexa 2006\": 16 caracteres\n",
        "Tamanho de \"Brasil! Hexa 2006!\": 18 caracteres\n",
        "As duas strings são de tamanhos diferentes.\n",
        "As duas strings possuem conteúdo diferente."
      ],
      "metadata": {
        "id": "WE3xm-koLUI8"
      }
    },
    {
      "cell_type": "code",
      "execution_count": null,
      "metadata": {
        "id": "0egMv9dELSkk"
      },
      "outputs": [],
      "source": [
        "#palavra2 = input('String 2: ')\n",
        "\n",
        "#print('Tamanho de \"%s\": %d ' % (palavra1, len(palavra1)))"
      ]
    },
    {
      "cell_type": "code",
      "source": [
        "palavra1 = input('String 1: ')\n",
        "palavra2 = input('String 2: ')\n",
        "\n",
        "print('Tamanho de \"%s\": %d ' % (palavra1, len(palavra1)))\n",
        "print('Tamanho de \"%s\": %d ' % (palavra2, len(palavra2)))\n",
        "\n",
        "if len(palavra1) == len(palavra2):\n",
        "    print('As duas strings são de tamanhos iguais.')\n",
        "else:\n",
        "    print('As duas strings são de tamanhos diferentes.')"
      ],
      "metadata": {
        "colab": {
          "base_uri": "https://localhost:8080/"
        },
        "id": "g_e1IIBILZUD",
        "outputId": "1fc0dd8c-a911-48fd-97a9-e179ee17f665"
      },
      "execution_count": 2,
      "outputs": [
        {
          "output_type": "stream",
          "name": "stdout",
          "text": [
            "String 1: Brasil Hexa 2006\n",
            "String 2: Brasil! Hexa 2006!\n",
            "Tamanho de \"Brasil Hexa 2006\": 16 \n",
            "Tamanho de \"Brasil! Hexa 2006!\": 18 \n",
            "As duas strings são de tamanhos diferentes.\n"
          ]
        }
      ]
    }
  ]
}