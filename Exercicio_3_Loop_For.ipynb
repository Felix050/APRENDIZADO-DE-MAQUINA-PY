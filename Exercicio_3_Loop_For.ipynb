{
  "nbformat": 4,
  "nbformat_minor": 0,
  "metadata": {
    "colab": {
      "provenance": [],
      "authorship_tag": "ABX9TyP93Ux8VnMuFtiqfxmYrQco",
      "include_colab_link": true
    },
    "kernelspec": {
      "name": "python3",
      "display_name": "Python 3"
    },
    "language_info": {
      "name": "python"
    }
  },
  "cells": [
    {
      "cell_type": "markdown",
      "metadata": {
        "id": "view-in-github",
        "colab_type": "text"
      },
      "source": [
        "<a href=\"https://colab.research.google.com/github/Felix050/APRENDIZADO-DE-MAQUINA-PY/blob/master/Exercicio_3_Loop_For.ipynb\" target=\"_parent\"><img src=\"https://colab.research.google.com/assets/colab-badge.svg\" alt=\"Open In Colab\"/></a>"
      ]
    },
    {
      "cell_type": "code",
      "execution_count": null,
      "metadata": {
        "id": "cK6KWLAeaA8l"
      },
      "outputs": [],
      "source": [
        "# for i in range(5):\n",
        "#     print(i)\n",
        "\n",
        "# for i in range(0, 10, 3)\n",
        "#     print(i)"
      ]
    },
    {
      "cell_type": "code",
      "source": [
        "\n",
        "x = int(input(\"Digite um numero para ver a tabuada: \"))\n",
        "print(f\"Essa é a tabuada do {x}\")\n",
        "for i in range(1, 11):\n",
        "    print(f\"{i} x {x} = {i*x}\")\n"
      ],
      "metadata": {
        "colab": {
          "base_uri": "https://localhost:8080/"
        },
        "id": "R014zTyQa_6n",
        "outputId": "cefa1400-d728-4eb6-decb-e4bfaff4c32a"
      },
      "execution_count": 16,
      "outputs": [
        {
          "output_type": "stream",
          "name": "stdout",
          "text": [
            "Digite um numero para ver a tabuada: 3\n",
            "Essa é a tabuada do 3\n",
            "1 x 3 = 3\n",
            "2 x 3 = 6\n",
            "3 x 3 = 9\n",
            "4 x 3 = 12\n",
            "5 x 3 = 15\n",
            "6 x 3 = 18\n",
            "7 x 3 = 21\n",
            "8 x 3 = 24\n",
            "9 x 3 = 27\n",
            "10 x 3 = 30\n"
          ]
        }
      ]
    }
  ]
}