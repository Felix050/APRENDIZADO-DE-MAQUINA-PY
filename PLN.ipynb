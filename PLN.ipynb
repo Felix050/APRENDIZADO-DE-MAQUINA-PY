{
  "nbformat": 4,
  "nbformat_minor": 0,
  "metadata": {
    "colab": {
      "provenance": [],
      "authorship_tag": "ABX9TyNgdXqZnmjH+MZbnSTOyVXl",
      "include_colab_link": true
    },
    "kernelspec": {
      "name": "python3",
      "display_name": "Python 3"
    },
    "language_info": {
      "name": "python"
    }
  },
  "cells": [
    {
      "cell_type": "markdown",
      "metadata": {
        "id": "view-in-github",
        "colab_type": "text"
      },
      "source": [
        "<a href=\"https://colab.research.google.com/github/Felix050/APRENDIZADO-DE-MAQUINA-PY/blob/master/PLN.ipynb\" target=\"_parent\"><img src=\"https://colab.research.google.com/assets/colab-badge.svg\" alt=\"Open In Colab\"/></a>"
      ]
    },
    {
      "cell_type": "markdown",
      "source": [
        "Aprendendo Numpy e Pandas"
      ],
      "metadata": {
        "id": "zpzPvOCdPzhq"
      }
    },
    {
      "cell_type": "code",
      "source": [
        "#instalar o NLTK\n",
        "#O pacote NLTK vem com muitos corpora\n",
        "# (conjunto de textos escritos e registros orais em uma determinada língua e\n",
        "# que serve como base de análise), gramáticas, modelos treinados etc.\n",
        "!pip install nltk==3.5"
      ],
      "metadata": {
        "colab": {
          "base_uri": "https://localhost:8080/"
        },
        "id": "yKGP26CiJRib",
        "outputId": "34686847-a8d0-4a77-b9f2-5864f74018cb"
      },
      "execution_count": 1,
      "outputs": [
        {
          "output_type": "stream",
          "name": "stdout",
          "text": [
            "Collecting nltk==3.5\n",
            "  Downloading nltk-3.5.zip (1.4 MB)\n",
            "\u001b[2K     \u001b[90m━━━━━━━━━━━━━━━━━━━━━━━━━━━━━━━━━━━━━━━━\u001b[0m \u001b[32m1.4/1.4 MB\u001b[0m \u001b[31m12.1 MB/s\u001b[0m eta \u001b[36m0:00:00\u001b[0m\n",
            "\u001b[?25h  Preparing metadata (setup.py) ... \u001b[?25l\u001b[?25hdone\n",
            "Requirement already satisfied: click in /usr/local/lib/python3.10/dist-packages (from nltk==3.5) (8.1.7)\n",
            "Requirement already satisfied: joblib in /usr/local/lib/python3.10/dist-packages (from nltk==3.5) (1.4.2)\n",
            "Requirement already satisfied: regex in /usr/local/lib/python3.10/dist-packages (from nltk==3.5) (2024.9.11)\n",
            "Requirement already satisfied: tqdm in /usr/local/lib/python3.10/dist-packages (from nltk==3.5) (4.66.5)\n",
            "Building wheels for collected packages: nltk\n",
            "  Building wheel for nltk (setup.py) ... \u001b[?25l\u001b[?25hdone\n",
            "  Created wheel for nltk: filename=nltk-3.5-py3-none-any.whl size=1434679 sha256=6fdd1a37a9c260c25ca718dfd2bd09a03958ef9c1dfd29fd95d324ef1a015df7\n",
            "  Stored in directory: /root/.cache/pip/wheels/35/ab/82/f9667f6f884d272670a15382599a9c753a1dfdc83f7412e37d\n",
            "Successfully built nltk\n",
            "Installing collected packages: nltk\n",
            "  Attempting uninstall: nltk\n",
            "    Found existing installation: nltk 3.8.1\n",
            "    Uninstalling nltk-3.8.1:\n",
            "      Successfully uninstalled nltk-3.8.1\n",
            "Successfully installed nltk-3.5\n"
          ]
        }
      ]
    },
    {
      "cell_type": "code",
      "source": [
        "\n",
        "import nltk\n",
        "nltk.download('stopwords')\n",
        "nltk.download('punkt')\n",
        "nltk.download('machado')"
      ],
      "metadata": {
        "colab": {
          "base_uri": "https://localhost:8080/"
        },
        "id": "AgdujoLAJpP7",
        "outputId": "07fb447a-af57-4b94-fb14-7bfc4b4e536f"
      },
      "execution_count": 6,
      "outputs": [
        {
          "output_type": "stream",
          "name": "stderr",
          "text": [
            "[nltk_data] Downloading package stopwords to /root/nltk_data...\n",
            "[nltk_data]   Package stopwords is already up-to-date!\n",
            "[nltk_data] Downloading package punkt to /root/nltk_data...\n",
            "[nltk_data]   Package punkt is already up-to-date!\n",
            "[nltk_data] Downloading package machado to /root/nltk_data...\n",
            "[nltk_data]   Package machado is already up-to-date!\n"
          ]
        },
        {
          "output_type": "execute_result",
          "data": {
            "text/plain": [
              "True"
            ]
          },
          "metadata": {},
          "execution_count": 6
        }
      ]
    },
    {
      "cell_type": "code",
      "source": [
        "# baixar pacotes para tokenização e um corpola em português relacionado às\n",
        "# obras de Machado de Assis\n",
        "from nltk.corpus import machado\n",
        "machado.fileids()"
      ],
      "metadata": {
        "colab": {
          "base_uri": "https://localhost:8080/"
        },
        "id": "R1CRLpSJJxQS",
        "outputId": "55ddfd7f-fe6b-4465-a63e-5906c11ec499"
      },
      "execution_count": 3,
      "outputs": [
        {
          "output_type": "execute_result",
          "data": {
            "text/plain": [
              "['contos/macn001.txt',\n",
              " 'contos/macn002.txt',\n",
              " 'contos/macn003.txt',\n",
              " 'contos/macn004.txt',\n",
              " 'contos/macn005.txt',\n",
              " 'contos/macn006.txt',\n",
              " 'contos/macn007.txt',\n",
              " 'contos/macn008.txt',\n",
              " 'contos/macn009.txt',\n",
              " 'contos/macn010.txt',\n",
              " 'contos/macn011.txt',\n",
              " 'contos/macn012.txt',\n",
              " 'contos/macn013.txt',\n",
              " 'contos/macn014.txt',\n",
              " 'contos/macn015.txt',\n",
              " 'contos/macn016.txt',\n",
              " 'contos/macn017.txt',\n",
              " 'contos/macn018.txt',\n",
              " 'contos/macn019.txt',\n",
              " 'contos/macn020.txt',\n",
              " 'contos/macn021.txt',\n",
              " 'contos/macn022.txt',\n",
              " 'contos/macn023.txt',\n",
              " 'contos/macn024.txt',\n",
              " 'contos/macn025.txt',\n",
              " 'contos/macn026.txt',\n",
              " 'contos/macn027.txt',\n",
              " 'contos/macn028.txt',\n",
              " 'contos/macn029.txt',\n",
              " 'contos/macn030.txt',\n",
              " 'contos/macn031.txt',\n",
              " 'contos/macn032.txt',\n",
              " 'contos/macn033.txt',\n",
              " 'contos/macn034.txt',\n",
              " 'contos/macn035.txt',\n",
              " 'contos/macn036.txt',\n",
              " 'contos/macn037.txt',\n",
              " 'contos/macn038.txt',\n",
              " 'contos/macn039.txt',\n",
              " 'contos/macn040.txt',\n",
              " 'contos/macn041.txt',\n",
              " 'contos/macn042.txt',\n",
              " 'contos/macn043.txt',\n",
              " 'contos/macn044.txt',\n",
              " 'contos/macn045.txt',\n",
              " 'contos/macn046.txt',\n",
              " 'contos/macn047.txt',\n",
              " 'contos/macn048.txt',\n",
              " 'contos/macn049.txt',\n",
              " 'contos/macn050.txt',\n",
              " 'contos/macn051.txt',\n",
              " 'contos/macn052.txt',\n",
              " 'contos/macn053.txt',\n",
              " 'contos/macn054.txt',\n",
              " 'contos/macn055.txt',\n",
              " 'contos/macn056.txt',\n",
              " 'contos/macn057.txt',\n",
              " 'contos/macn058.txt',\n",
              " 'contos/macn059.txt',\n",
              " 'contos/macn060.txt',\n",
              " 'contos/macn061.txt',\n",
              " 'contos/macn062.txt',\n",
              " 'contos/macn063.txt',\n",
              " 'contos/macn064.txt',\n",
              " 'contos/macn065.txt',\n",
              " 'contos/macn066.txt',\n",
              " 'contos/macn067.txt',\n",
              " 'contos/macn068.txt',\n",
              " 'contos/macn069.txt',\n",
              " 'contos/macn070.txt',\n",
              " 'contos/macn071.txt',\n",
              " 'contos/macn072.txt',\n",
              " 'contos/macn073.txt',\n",
              " 'contos/macn074.txt',\n",
              " 'contos/macn075.txt',\n",
              " 'contos/macn076.txt',\n",
              " 'contos/macn077.txt',\n",
              " 'contos/macn078.txt',\n",
              " 'contos/macn079.txt',\n",
              " 'contos/macn080.txt',\n",
              " 'contos/macn081.txt',\n",
              " 'contos/macn082.txt',\n",
              " 'contos/macn083.txt',\n",
              " 'contos/macn084.txt',\n",
              " 'contos/macn085.txt',\n",
              " 'contos/macn086.txt',\n",
              " 'contos/macn087.txt',\n",
              " 'contos/macn088.txt',\n",
              " 'contos/macn089.txt',\n",
              " 'contos/macn090.txt',\n",
              " 'contos/macn091.txt',\n",
              " 'contos/macn092.txt',\n",
              " 'contos/macn093.txt',\n",
              " 'contos/macn094.txt',\n",
              " 'contos/macn095.txt',\n",
              " 'contos/macn096.txt',\n",
              " 'contos/macn097.txt',\n",
              " 'contos/macn098.txt',\n",
              " 'contos/macn099.txt',\n",
              " 'contos/macn100.txt',\n",
              " 'contos/macn101.txt',\n",
              " 'contos/macn102.txt',\n",
              " 'contos/macn103.txt',\n",
              " 'contos/macn104.txt',\n",
              " 'contos/macn105.txt',\n",
              " 'contos/macn106.txt',\n",
              " 'contos/macn107.txt',\n",
              " 'contos/macn108.txt',\n",
              " 'contos/macn109.txt',\n",
              " 'contos/macn110.txt',\n",
              " 'contos/macn111.txt',\n",
              " 'contos/macn112.txt',\n",
              " 'contos/macn113.txt',\n",
              " 'contos/macn114.txt',\n",
              " 'contos/macn115.txt',\n",
              " 'contos/macn116.txt',\n",
              " 'contos/macn117.txt',\n",
              " 'contos/macn118.txt',\n",
              " 'contos/macn119.txt',\n",
              " 'contos/macn120.txt',\n",
              " 'contos/macn121.txt',\n",
              " 'contos/macn122.txt',\n",
              " 'contos/macn123.txt',\n",
              " 'contos/macn124.txt',\n",
              " 'contos/macn125.txt',\n",
              " 'contos/macn126.txt',\n",
              " 'contos/macn127.txt',\n",
              " 'contos/macn128.txt',\n",
              " 'contos/macn129.txt',\n",
              " 'contos/macn130.txt',\n",
              " 'contos/macn131.txt',\n",
              " 'contos/macn132.txt',\n",
              " 'contos/macn133.txt',\n",
              " 'contos/macn134.txt',\n",
              " 'contos/macn135.txt',\n",
              " 'contos/macn136.txt',\n",
              " 'contos/macn137.txt',\n",
              " 'critica/mact01.txt',\n",
              " 'critica/mact02.txt',\n",
              " 'critica/mact03.txt',\n",
              " 'critica/mact04.txt',\n",
              " 'critica/mact05.txt',\n",
              " 'critica/mact06.txt',\n",
              " 'critica/mact07.txt',\n",
              " 'critica/mact08.txt',\n",
              " 'critica/mact09.txt',\n",
              " 'critica/mact10.txt',\n",
              " 'critica/mact11.txt',\n",
              " 'critica/mact12.txt',\n",
              " 'critica/mact13.txt',\n",
              " 'critica/mact14.txt',\n",
              " 'critica/mact15.txt',\n",
              " 'critica/mact16.txt',\n",
              " 'critica/mact17.txt',\n",
              " 'critica/mact18.txt',\n",
              " 'critica/mact19.txt',\n",
              " 'critica/mact20.txt',\n",
              " 'critica/mact21.txt',\n",
              " 'critica/mact22.txt',\n",
              " 'critica/mact23.txt',\n",
              " 'critica/mact24.txt',\n",
              " 'critica/mact25.txt',\n",
              " 'critica/mact26.txt',\n",
              " 'critica/mact27.txt',\n",
              " 'critica/mact28.txt',\n",
              " 'critica/mact29.txt',\n",
              " 'critica/mact30.txt',\n",
              " 'critica/mact31.txt',\n",
              " 'critica/mact32.txt',\n",
              " 'critica/mact33.txt',\n",
              " 'critica/mact34.txt',\n",
              " 'critica/mact35.txt',\n",
              " 'critica/mact36.txt',\n",
              " 'critica/mact37.txt',\n",
              " 'critica/mact38.txt',\n",
              " 'critica/mact39.txt',\n",
              " 'critica/mact40.txt',\n",
              " 'critica/mact41.txt',\n",
              " 'critica/mact42.txt',\n",
              " 'critica/mact43.txt',\n",
              " 'critica/mact44.txt',\n",
              " 'critica/mact45.txt',\n",
              " 'cronica/macr01.txt',\n",
              " 'cronica/macr02.txt',\n",
              " 'cronica/macr03.txt',\n",
              " 'cronica/macr04.txt',\n",
              " 'cronica/macr05.txt',\n",
              " 'cronica/macr06.txt',\n",
              " 'cronica/macr07.txt',\n",
              " 'cronica/macr08.txt',\n",
              " 'cronica/macr09.txt',\n",
              " 'cronica/macr10.txt',\n",
              " 'cronica/macr11.txt',\n",
              " 'cronica/macr12.txt',\n",
              " 'cronica/macr13.txt',\n",
              " 'cronica/macr14.txt',\n",
              " 'cronica/macr15.txt',\n",
              " 'cronica/macr16.txt',\n",
              " 'cronica/macr17.txt',\n",
              " 'cronica/macr18.txt',\n",
              " 'cronica/macr19.txt',\n",
              " 'cronica/macr20.txt',\n",
              " 'cronica/macr21.txt',\n",
              " 'cronica/macr22.txt',\n",
              " 'cronica/macr23.txt',\n",
              " 'cronica/macr24.txt',\n",
              " 'miscelanea/mams01.txt',\n",
              " 'miscelanea/mams02.txt',\n",
              " 'miscelanea/mams03.txt',\n",
              " 'miscelanea/mams04.txt',\n",
              " 'miscelanea/mams05.txt',\n",
              " 'miscelanea/mams06.txt',\n",
              " 'miscelanea/mams07.txt',\n",
              " 'miscelanea/mams08.txt',\n",
              " 'miscelanea/mams09.txt',\n",
              " 'miscelanea/mams10.txt',\n",
              " 'poesia/maps01.txt',\n",
              " 'poesia/maps02.txt',\n",
              " 'poesia/maps03.txt',\n",
              " 'poesia/maps04.txt',\n",
              " 'poesia/maps05.txt',\n",
              " 'poesia/maps06.txt',\n",
              " 'poesia/maps07.txt',\n",
              " 'romance/marm01.txt',\n",
              " 'romance/marm02.txt',\n",
              " 'romance/marm03.txt',\n",
              " 'romance/marm04.txt',\n",
              " 'romance/marm05.txt',\n",
              " 'romance/marm06.txt',\n",
              " 'romance/marm07.txt',\n",
              " 'romance/marm08.txt',\n",
              " 'romance/marm09.txt',\n",
              " 'romance/marm10.txt',\n",
              " 'teatro/matt01.txt',\n",
              " 'teatro/matt02.txt',\n",
              " 'teatro/matt03.txt',\n",
              " 'teatro/matt04.txt',\n",
              " 'teatro/matt05.txt',\n",
              " 'teatro/matt06.txt',\n",
              " 'teatro/matt07.txt',\n",
              " 'teatro/matt08.txt',\n",
              " 'teatro/matt09.txt',\n",
              " 'teatro/matt10.txt',\n",
              " 'traducao/matr01.txt',\n",
              " 'traducao/matr02.txt',\n",
              " 'traducao/matr03.txt']"
            ]
          },
          "metadata": {},
          "execution_count": 3
        }
      ]
    },
    {
      "cell_type": "code",
      "source": [
        "#selecionar um trecho da obra \"Memórias Póstumas de Brás Cubas\".\n",
        "texto = machado.raw('romance/marm05.txt')\n",
        "texto = texto[10082:10954].replace('\\n',' ')\n",
        "texto"
      ],
      "metadata": {
        "colab": {
          "base_uri": "https://localhost:8080/",
          "height": 122
        },
        "id": "TnRjzxpfJ4I6",
        "outputId": "a6fdb6a6-9660-4c47-af64-39198560e867"
      },
      "execution_count": 4,
      "outputs": [
        {
          "output_type": "execute_result",
          "data": {
            "text/plain": [
              "'Como este apelido de Cubas lhe cheirasse excessivamente a tanoaria, alegava meu pai, bisneto de Damião, que o dito apelido fora dado a um cavaleiro, herói nas jornadas da África, em prêmio da façanha que praticou, arrebatando trezentas cubas aos mouros. Meu pai era homem de imaginação; escapou à tanoaria nas asas de um calembour. Era um bom caráter, meu pai, varão digno e leal como poucos. Tinha, é verdade, uns fumos de pacholice; mas quem não é um pouco pachola nesse mundo? Releva notar que ele não recorreu à inventiva senão depois de experimentar a falsificação; primeiramente, entroncou-se na família daquele meu famoso homônimo, o capitão-mor, Brás Cubas, que fundou a vila de São Vicente, onde morreu em 1592, e por esse motivo é que me deu o nome de Brás. Opôs-se-lhe, porém, a família do capitão-mor, e foi então que ele imaginou as trezentas cubas mouriscas.'"
            ],
            "application/vnd.google.colaboratory.intrinsic+json": {
              "type": "string"
            }
          },
          "metadata": {},
          "execution_count": 4
        }
      ]
    },
    {
      "cell_type": "code",
      "source": [
        "# importar e utilizar as funções de tokenização para o texto. Primeiro, para\n",
        "# sentenças.\n",
        "from nltk.tokenize import sent_tokenize\n",
        "sentencas = sent_tokenize(texto, language='portuguese')\n",
        "for i,sent in enumerate(sentencas):\n",
        "     print(i,'-',sent)"
      ],
      "metadata": {
        "id": "NBK4l9zBK2LC"
      },
      "execution_count": null,
      "outputs": []
    },
    {
      "cell_type": "code",
      "source": [
        "\n",
        "#tokenização para as palavras (menor unidade).\n",
        "from nltk.tokenize import word_tokenize\n",
        "palavras = word_tokenize(texto, language='portuguese')\n",
        "print(palavras)"
      ],
      "metadata": {
        "colab": {
          "base_uri": "https://localhost:8080/"
        },
        "id": "Yi9YYuCUJ-I7",
        "outputId": "083140fa-268c-4594-e4e1-10bb9ce3ea52"
      },
      "execution_count": 5,
      "outputs": [
        {
          "output_type": "stream",
          "name": "stdout",
          "text": [
            "['Como', 'este', 'apelido', 'de', 'Cubas', 'lhe', 'cheirasse', 'excessivamente', 'a', 'tanoaria', ',', 'alegava', 'meu', 'pai', ',', 'bisneto', 'de', 'Damião', ',', 'que', 'o', 'dito', 'apelido', 'fora', 'dado', 'a', 'um', 'cavaleiro', ',', 'herói', 'nas', 'jornadas', 'da', 'África', ',', 'em', 'prêmio', 'da', 'façanha', 'que', 'praticou', ',', 'arrebatando', 'trezentas', 'cubas', 'aos', 'mouros', '.', 'Meu', 'pai', 'era', 'homem', 'de', 'imaginação', ';', 'escapou', 'à', 'tanoaria', 'nas', 'asas', 'de', 'um', 'calembour', '.', 'Era', 'um', 'bom', 'caráter', ',', 'meu', 'pai', ',', 'varão', 'digno', 'e', 'leal', 'como', 'poucos', '.', 'Tinha', ',', 'é', 'verdade', ',', 'uns', 'fumos', 'de', 'pacholice', ';', 'mas', 'quem', 'não', 'é', 'um', 'pouco', 'pachola', 'nesse', 'mundo', '?', 'Releva', 'notar', 'que', 'ele', 'não', 'recorreu', 'à', 'inventiva', 'senão', 'depois', 'de', 'experimentar', 'a', 'falsificação', ';', 'primeiramente', ',', 'entroncou-se', 'na', 'família', 'daquele', 'meu', 'famoso', 'homônimo', ',', 'o', 'capitão-mor', ',', 'Brás', 'Cubas', ',', 'que', 'fundou', 'a', 'vila', 'de', 'São', 'Vicente', ',', 'onde', 'morreu', 'em', '1592', ',', 'e', 'por', 'esse', 'motivo', 'é', 'que', 'me', 'deu', 'o', 'nome', 'de', 'Brás', '.', 'Opôs-se-lhe', ',', 'porém', ',', 'a', 'família', 'do', 'capitão-mor', ',', 'e', 'foi', 'então', 'que', 'ele', 'imaginou', 'as', 'trezentas', 'cubas', 'mouriscas', '.']\n"
          ]
        }
      ]
    },
    {
      "cell_type": "code",
      "source": [
        "#Podemos combinar os dois, para mostrar os tokens de cada sentença.\n",
        "from nltk.tokenize import sent_tokenize,word_tokenize\n",
        "sentencas = sent_tokenize(texto, language='portuguese')\n",
        "for i,sent in enumerate(sentencas):\n",
        "     print(i,'-',word_tokenize(sent, language='portuguese'))"
      ],
      "metadata": {
        "colab": {
          "base_uri": "https://localhost:8080/"
        },
        "id": "SEEmnphqLFyC",
        "outputId": "9930f1f9-18ac-412a-b07a-e9d9be63de97"
      },
      "execution_count": 8,
      "outputs": [
        {
          "output_type": "stream",
          "name": "stdout",
          "text": [
            "0 - ['Como', 'este', 'apelido', 'de', 'Cubas', 'lhe', 'cheirasse', 'excessivamente', 'a', 'tanoaria', ',', 'alegava', 'meu', 'pai', ',', 'bisneto', 'de', 'Damião', ',', 'que', 'o', 'dito', 'apelido', 'fora', 'dado', 'a', 'um', 'cavaleiro', ',', 'herói', 'nas', 'jornadas', 'da', 'África', ',', 'em', 'prêmio', 'da', 'façanha', 'que', 'praticou', ',', 'arrebatando', 'trezentas', 'cubas', 'aos', 'mouros', '.']\n",
            "1 - ['Meu', 'pai', 'era', 'homem', 'de', 'imaginação', ';', 'escapou', 'à', 'tanoaria', 'nas', 'asas', 'de', 'um', 'calembour', '.']\n",
            "2 - ['Era', 'um', 'bom', 'caráter', ',', 'meu', 'pai', ',', 'varão', 'digno', 'e', 'leal', 'como', 'poucos', '.']\n",
            "3 - ['Tinha', ',', 'é', 'verdade', ',', 'uns', 'fumos', 'de', 'pacholice', ';', 'mas', 'quem', 'não', 'é', 'um', 'pouco', 'pachola', 'nesse', 'mundo', '?']\n",
            "4 - ['Releva', 'notar', 'que', 'ele', 'não', 'recorreu', 'à', 'inventiva', 'senão', 'depois', 'de', 'experimentar', 'a', 'falsificação', ';', 'primeiramente', ',', 'entroncou-se', 'na', 'família', 'daquele', 'meu', 'famoso', 'homônimo', ',', 'o', 'capitão-mor', ',', 'Brás', 'Cubas', ',', 'que', 'fundou', 'a', 'vila', 'de', 'São', 'Vicente', ',', 'onde', 'morreu', 'em', '1592', ',', 'e', 'por', 'esse', 'motivo', 'é', 'que', 'me', 'deu', 'o', 'nome', 'de', 'Brás', '.']\n",
            "5 - ['Opôs-se-lhe', ',', 'porém', ',', 'a', 'família', 'do', 'capitão-mor', ',', 'e', 'foi', 'então', 'que', 'ele', 'imaginou', 'as', 'trezentas', 'cubas', 'mouriscas', '.']\n"
          ]
        }
      ]
    },
    {
      "cell_type": "code",
      "source": [
        "#Remover pontuação\n",
        "from nltk.tokenize import sent_tokenize,word_tokenize\n",
        "import string\n",
        "\n",
        "sentencas = sent_tokenize(texto, language='portuguese')\n",
        "for i,sent in enumerate(sentencas):\n",
        "    sent_sem_pontuacao = [i for i in word_tokenize(sent, language='portuguese') if i not in string.punctuation]\n",
        "    print(i,'-',sent_sem_pontuacao)"
      ],
      "metadata": {
        "colab": {
          "base_uri": "https://localhost:8080/"
        },
        "id": "neH7PrqsLLlL",
        "outputId": "49ffdb45-c38c-4d40-da08-aba8df087e55"
      },
      "execution_count": 16,
      "outputs": [
        {
          "output_type": "stream",
          "name": "stdout",
          "text": [
            "0 - ['Como', 'este', 'apelido', 'de', 'Cubas', 'lhe', 'cheirasse', 'excessivamente', 'a', 'tanoaria', 'alegava', 'meu', 'pai', 'bisneto', 'de', 'Damião', 'que', 'o', 'dito', 'apelido', 'fora', 'dado', 'a', 'um', 'cavaleiro', 'herói', 'nas', 'jornadas', 'da', 'África', 'em', 'prêmio', 'da', 'façanha', 'que', 'praticou', 'arrebatando', 'trezentas', 'cubas', 'aos', 'mouros']\n",
            "1 - ['Meu', 'pai', 'era', 'homem', 'de', 'imaginação', 'escapou', 'à', 'tanoaria', 'nas', 'asas', 'de', 'um', 'calembour']\n",
            "2 - ['Era', 'um', 'bom', 'caráter', 'meu', 'pai', 'varão', 'digno', 'e', 'leal', 'como', 'poucos']\n",
            "3 - ['Tinha', 'é', 'verdade', 'uns', 'fumos', 'de', 'pacholice', 'mas', 'quem', 'não', 'é', 'um', 'pouco', 'pachola', 'nesse', 'mundo']\n",
            "4 - ['Releva', 'notar', 'que', 'ele', 'não', 'recorreu', 'à', 'inventiva', 'senão', 'depois', 'de', 'experimentar', 'a', 'falsificação', 'primeiramente', 'entroncou-se', 'na', 'família', 'daquele', 'meu', 'famoso', 'homônimo', 'o', 'capitão-mor', 'Brás', 'Cubas', 'que', 'fundou', 'a', 'vila', 'de', 'São', 'Vicente', 'onde', 'morreu', 'em', '1592', 'e', 'por', 'esse', 'motivo', 'é', 'que', 'me', 'deu', 'o', 'nome', 'de', 'Brás']\n",
            "5 - ['Opôs-se-lhe', 'porém', 'a', 'família', 'do', 'capitão-mor', 'e', 'foi', 'então', 'que', 'ele', 'imaginou', 'as', 'trezentas', 'cubas', 'mouriscas']\n"
          ]
        }
      ]
    },
    {
      "cell_type": "code",
      "source": [
        "#remover as stop words (palavras de parada).\n",
        "stopwords = nltk.corpus.stopwords.words('portuguese')\n",
        "print(stopwords)"
      ],
      "metadata": {
        "colab": {
          "base_uri": "https://localhost:8080/"
        },
        "id": "hrI21PWhNaSS",
        "outputId": "9198ceb0-73d9-4f16-e8ce-2c469b1cf78b"
      },
      "execution_count": 17,
      "outputs": [
        {
          "output_type": "stream",
          "name": "stdout",
          "text": [
            "['a', 'à', 'ao', 'aos', 'aquela', 'aquelas', 'aquele', 'aqueles', 'aquilo', 'as', 'às', 'até', 'com', 'como', 'da', 'das', 'de', 'dela', 'delas', 'dele', 'deles', 'depois', 'do', 'dos', 'e', 'é', 'ela', 'elas', 'ele', 'eles', 'em', 'entre', 'era', 'eram', 'éramos', 'essa', 'essas', 'esse', 'esses', 'esta', 'está', 'estamos', 'estão', 'estar', 'estas', 'estava', 'estavam', 'estávamos', 'este', 'esteja', 'estejam', 'estejamos', 'estes', 'esteve', 'estive', 'estivemos', 'estiver', 'estivera', 'estiveram', 'estivéramos', 'estiverem', 'estivermos', 'estivesse', 'estivessem', 'estivéssemos', 'estou', 'eu', 'foi', 'fomos', 'for', 'fora', 'foram', 'fôramos', 'forem', 'formos', 'fosse', 'fossem', 'fôssemos', 'fui', 'há', 'haja', 'hajam', 'hajamos', 'hão', 'havemos', 'haver', 'hei', 'houve', 'houvemos', 'houver', 'houvera', 'houverá', 'houveram', 'houvéramos', 'houverão', 'houverei', 'houverem', 'houveremos', 'houveria', 'houveriam', 'houveríamos', 'houvermos', 'houvesse', 'houvessem', 'houvéssemos', 'isso', 'isto', 'já', 'lhe', 'lhes', 'mais', 'mas', 'me', 'mesmo', 'meu', 'meus', 'minha', 'minhas', 'muito', 'na', 'não', 'nas', 'nem', 'no', 'nos', 'nós', 'nossa', 'nossas', 'nosso', 'nossos', 'num', 'numa', 'o', 'os', 'ou', 'para', 'pela', 'pelas', 'pelo', 'pelos', 'por', 'qual', 'quando', 'que', 'quem', 'são', 'se', 'seja', 'sejam', 'sejamos', 'sem', 'ser', 'será', 'serão', 'serei', 'seremos', 'seria', 'seriam', 'seríamos', 'seu', 'seus', 'só', 'somos', 'sou', 'sua', 'suas', 'também', 'te', 'tem', 'tém', 'temos', 'tenha', 'tenham', 'tenhamos', 'tenho', 'terá', 'terão', 'terei', 'teremos', 'teria', 'teriam', 'teríamos', 'teu', 'teus', 'teve', 'tinha', 'tinham', 'tínhamos', 'tive', 'tivemos', 'tiver', 'tivera', 'tiveram', 'tivéramos', 'tiverem', 'tivermos', 'tivesse', 'tivessem', 'tivéssemos', 'tu', 'tua', 'tuas', 'um', 'uma', 'você', 'vocês', 'vos']\n"
          ]
        }
      ]
    },
    {
      "cell_type": "code",
      "source": [
        "#remover as stop words das nossas sentenças.\n",
        "from nltk.tokenize import sent_tokenize,word_tokenize\n",
        "import string\n",
        "\n",
        "sentencas = sent_tokenize(texto, language='portuguese')\n",
        "for i,sent in enumerate(sentencas):\n",
        "    sent_sem_pontuacao = [i for i in word_tokenize(sent, language='portuguese') if i not in string.punctuation]\n",
        "    sent_sem_stopwords = [i for i in sent_sem_pontuacao if i not in stopwords]\n",
        "    print(i,'-',sent_sem_stopwords)"
      ],
      "metadata": {
        "colab": {
          "base_uri": "https://localhost:8080/"
        },
        "id": "yEwAUmpYNgbi",
        "outputId": "c0f5e251-5d41-4a71-930f-e3703cd36e5c"
      },
      "execution_count": 21,
      "outputs": [
        {
          "output_type": "stream",
          "name": "stdout",
          "text": [
            "0 - ['Como', 'apelido', 'Cubas', 'cheirasse', 'excessivamente', 'tanoaria', 'alegava', 'pai', 'bisneto', 'Damião', 'dito', 'apelido', 'dado', 'cavaleiro', 'herói', 'jornadas', 'África', 'prêmio', 'façanha', 'praticou', 'arrebatando', 'trezentas', 'cubas', 'mouros']\n",
            "1 - ['Meu', 'pai', 'homem', 'imaginação', 'escapou', 'tanoaria', 'asas', 'calembour']\n",
            "2 - ['Era', 'bom', 'caráter', 'pai', 'varão', 'digno', 'leal', 'poucos']\n",
            "3 - ['Tinha', 'verdade', 'uns', 'fumos', 'pacholice', 'pouco', 'pachola', 'nesse', 'mundo']\n",
            "4 - ['Releva', 'notar', 'recorreu', 'inventiva', 'senão', 'experimentar', 'falsificação', 'primeiramente', 'entroncou-se', 'família', 'daquele', 'famoso', 'homônimo', 'capitão-mor', 'Brás', 'Cubas', 'fundou', 'vila', 'São', 'Vicente', 'onde', 'morreu', '1592', 'motivo', 'deu', 'nome', 'Brás']\n",
            "5 - ['Opôs-se-lhe', 'porém', 'família', 'capitão-mor', 'então', 'imaginou', 'trezentas', 'cubas', 'mouriscas']\n"
          ]
        }
      ]
    },
    {
      "source": [
        "# foi criado um BoW com um vocabulário de 79 tokens, sendo impressas, também, as\n",
        "# representações numéricas dos primeiros dois documentos. Como os algoritmos\n",
        "# de machine learning utilizam apenas matrizes e vetores numéricos, os dados\n",
        "# anteriores já estão prontos para serem utilizados.\n",
        "\n",
        "from sklearn.feature_extraction.text import CountVectorizer\n",
        "# min_df should be an integer of at least 1 or a float between 0.0 and 1.0\n",
        "cv = CountVectorizer(min_df=1,max_df=1.0,binary=False,ngram_range=(1,1))\n",
        "bow = cv.fit_transform(sentencas)\n",
        "print('BoW Shape:',bow.shape)\n",
        "print('BoW Vocabulário (',len(cv.vocabulary_),'palavras ):',cv.vocabulary_)\n",
        "print('Primeira sentença:',bow[0].toarray())\n",
        "print('Segunda sentença:',bow[1].toarray())"
      ],
      "cell_type": "code",
      "metadata": {
        "colab": {
          "base_uri": "https://localhost:8080/"
        },
        "id": "o62Y-7b2WzGx",
        "outputId": "0d93fa1a-3cfb-406b-8364-c45fdba70c3b"
      },
      "execution_count": 24,
      "outputs": [
        {
          "output_type": "stream",
          "name": "stdout",
          "text": [
            "BoW Shape: (6, 98)\n",
            "BoW Vocabulário ( 98 palavras ): {'como': 15, 'este': 34, 'apelido': 3, 'de': 21, 'cubas': 16, 'lhe': 53, 'cheirasse': 14, 'excessivamente': 35, 'tanoaria': 88, 'alegava': 1, 'meu': 56, 'pai': 73, 'bisneto': 7, 'damião': 19, 'que': 81, 'dito': 25, 'fora': 42, 'dado': 18, 'um': 91, 'cavaleiro': 13, 'herói': 45, 'nas': 64, 'jornadas': 51, 'da': 17, 'áfrica': 97, 'em': 28, 'prêmio': 80, 'façanha': 40, 'praticou': 78, 'arrebatando': 4, 'trezentas': 90, 'aos': 2, 'mouros': 61, 'era': 31, 'homem': 46, 'imaginação': 48, 'escapou': 32, 'asas': 6, 'calembour': 10, 'bom': 8, 'caráter': 12, 'varão': 93, 'digno': 24, 'leal': 52, 'poucos': 77, 'tinha': 89, 'verdade': 94, 'uns': 92, 'fumos': 43, 'pacholice': 72, 'mas': 54, 'quem': 82, 'não': 68, 'pouco': 76, 'pachola': 71, 'nesse': 65, 'mundo': 62, 'releva': 84, 'notar': 67, 'ele': 27, 'recorreu': 83, 'inventiva': 50, 'senão': 86, 'depois': 22, 'experimentar': 36, 'falsificação': 37, 'primeiramente': 79, 'entroncou': 29, 'se': 85, 'na': 63, 'família': 39, 'daquele': 20, 'famoso': 38, 'homônimo': 47, 'capitão': 11, 'mor': 57, 'brás': 9, 'fundou': 44, 'vila': 96, 'são': 87, 'vicente': 95, 'onde': 69, 'morreu': 58, '1592': 0, 'por': 74, 'esse': 33, 'motivo': 59, 'me': 55, 'deu': 23, 'nome': 66, 'opôs': 70, 'porém': 75, 'do': 26, 'foi': 41, 'então': 30, 'imaginou': 49, 'as': 5, 'mouriscas': 60}\n",
            "Primeira sentença: [[0 1 1 2 1 0 0 1 0 0 0 0 0 1 1 1 2 2 1 1 0 2 0 0 0 1 0 0 1 0 0 0 0 0 1 1\n",
            "  0 0 0 0 1 0 1 0 0 1 0 0 0 0 0 1 0 1 0 0 1 0 0 0 0 1 0 0 1 0 0 0 0 0 0 0\n",
            "  0 1 0 0 0 0 1 0 1 2 0 0 0 0 0 0 1 0 1 1 0 0 0 0 0 1]]\n",
            "Segunda sentença: [[0 0 0 0 0 0 1 0 0 0 1 0 0 0 0 0 0 0 0 0 0 2 0 0 0 0 0 0 0 0 0 1 1 0 0 0\n",
            "  0 0 0 0 0 0 0 0 0 0 1 0 1 0 0 0 0 0 0 0 1 0 0 0 0 0 0 0 1 0 0 0 0 0 0 0\n",
            "  0 1 0 0 0 0 0 0 0 0 0 0 0 0 0 0 1 0 0 1 0 0 0 0 0 0]]\n"
          ]
        }
      ]
    }
  ]
}