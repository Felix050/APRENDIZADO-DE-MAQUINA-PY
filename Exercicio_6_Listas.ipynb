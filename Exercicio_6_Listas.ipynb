{
  "nbformat": 4,
  "nbformat_minor": 0,
  "metadata": {
    "colab": {
      "provenance": [],
      "authorship_tag": "ABX9TyPMVJlcK3qQJncvGakahcgG",
      "include_colab_link": true
    },
    "kernelspec": {
      "name": "python3",
      "display_name": "Python 3"
    },
    "language_info": {
      "name": "python"
    }
  },
  "cells": [
    {
      "cell_type": "markdown",
      "metadata": {
        "id": "view-in-github",
        "colab_type": "text"
      },
      "source": [
        "<a href=\"https://colab.research.google.com/github/Felix050/APRENDIZADO-DE-MAQUINA-PY/blob/master/Exercicio_6_Listas.ipynb\" target=\"_parent\"><img src=\"https://colab.research.google.com/assets/colab-badge.svg\" alt=\"Open In Colab\"/></a>"
      ]
    },
    {
      "cell_type": "markdown",
      "source": [
        "Exercicio 6 - Listas\n",
        "\n",
        "Faça uma rotina que leia os dados de um cliente até que o usuário digite \"fim\" e os imprima na tela"
      ],
      "metadata": {
        "id": "bnY7eFt5RLWv"
      }
    },
    {
      "cell_type": "code",
      "execution_count": null,
      "metadata": {
        "id": "lDAI4K8uRIOw"
      },
      "outputs": [],
      "source": [
        "# cliente = [\"Fernanda\", \"Montenegro\", 1929, \"Central do Brasil\", 1998, \"Atriz\", \"Rio de Janeiro, RJ\"]\n",
        "# cliente.append(\"Brasil\")"
      ]
    },
    {
      "cell_type": "code",
      "source": [
        "\n",
        "cliente = []\n",
        "\n",
        "\n",
        "while True:\n",
        "    dado = input(\"Digite um dado do cliente (ou 'fim' para encerrar): \")\n",
        "\n",
        "    if dado.lower() == \"fim\":\n",
        "        break\n",
        "    cliente.append(dado)\n",
        "\n",
        "# Imprimindo os dados do cliente\n",
        "print(\"\\nDados do cliente:\")\n",
        "for info in cliente:\n",
        "    print(info)"
      ],
      "metadata": {
        "id": "qvX39ilyRVi4"
      },
      "execution_count": null,
      "outputs": []
    }
  ]
}