{
  "nbformat": 4,
  "nbformat_minor": 0,
  "metadata": {
    "colab": {
      "provenance": [],
      "authorship_tag": "ABX9TyN+aMURkCPMssuGbGo7sJYe",
      "include_colab_link": true
    },
    "kernelspec": {
      "name": "python3",
      "display_name": "Python 3"
    },
    "language_info": {
      "name": "python"
    }
  },
  "cells": [
    {
      "cell_type": "markdown",
      "metadata": {
        "id": "view-in-github",
        "colab_type": "text"
      },
      "source": [
        "<a href=\"https://colab.research.google.com/github/Felix050/APRENDIZADO-DE-MAQUINA-PY/blob/master/Exercicio_5_Listas.ipynb\" target=\"_parent\"><img src=\"https://colab.research.google.com/assets/colab-badge.svg\" alt=\"Open In Colab\"/></a>"
      ]
    },
    {
      "cell_type": "markdown",
      "source": [
        "Exercicio 5 - Listas\n",
        "\n",
        "Faça uma rotina que leia um vetor de 10 números reais e mostre-os na ordem inversa."
      ],
      "metadata": {
        "id": "Wf7QX-5wizKz"
      }
    },
    {
      "cell_type": "code",
      "execution_count": null,
      "metadata": {
        "id": "_hQV0MpHiwPA"
      },
      "outputs": [],
      "source": [
        "# uma_lista = [11, \"oi\", 5.4, True]\n",
        "\n",
        "# i = 0\n",
        "# while i < len(uma_lista):\n",
        "    # print( \"elemento de indice %d = %d\"% (i, uma_lista[i]) )\n",
        "\n",
        "#A = [[1, 4, 5, 12],\n",
        "#    [-5, 8, 9, 0],\n",
        "#    [-6, 7, 11, 19]]\n",
        "\n",
        "#print(\"A =\", A)\n",
        "#print(\"A[1] =\", A[1])      # linha 2\n",
        "#print(\"A[1][2] =\", A[1][2])   # 3 elemento da linha 2"
      ]
    },
    {
      "cell_type": "code",
      "source": [
        "lista = [10, 20, 50, 1 , 3 , 5, 8, 13, 21, 34]\n",
        "print(lista)\n",
        "\n",
        "i = len(lista) - 1\n",
        "while i >= 0:\n",
        "    print(lista[i])\n",
        "    i = i - 1"
      ],
      "metadata": {
        "colab": {
          "base_uri": "https://localhost:8080/"
        },
        "id": "Hmwl7X0Xi31U",
        "outputId": "39c8fb35-4327-4511-e062-ab799eda0b1e"
      },
      "execution_count": 1,
      "outputs": [
        {
          "output_type": "stream",
          "name": "stdout",
          "text": [
            "[10, 20, 50, 1, 3, 5, 8, 13, 21, 34]\n",
            "34\n",
            "21\n",
            "13\n",
            "8\n",
            "5\n",
            "3\n",
            "1\n",
            "50\n",
            "20\n",
            "10\n"
          ]
        }
      ]
    }
  ]
}