{
  "nbformat": 4,
  "nbformat_minor": 0,
  "metadata": {
    "colab": {
      "provenance": [],
      "authorship_tag": "ABX9TyMiGuxbdjIwgtM+4L189GJO",
      "include_colab_link": true
    },
    "kernelspec": {
      "name": "python3",
      "display_name": "Python 3"
    },
    "language_info": {
      "name": "python"
    }
  },
  "cells": [
    {
      "cell_type": "markdown",
      "metadata": {
        "id": "view-in-github",
        "colab_type": "text"
      },
      "source": [
        "<a href=\"https://colab.research.google.com/github/Felix050/APRENDIZADO-DE-MAQUINA-PY/blob/master/Exercicio_4_Loop_While.ipynb\" target=\"_parent\"><img src=\"https://colab.research.google.com/assets/colab-badge.svg\" alt=\"Open In Colab\"/></a>"
      ]
    },
    {
      "cell_type": "markdown",
      "source": [
        "Faça uma rotina que leia um nome de usuário e a sua senha e não aceite a senha igual ao nome do usuário, mostrando uma mensagem de erro e voltando a pedir as informações."
      ],
      "metadata": {
        "id": "3KCxwW6FhZIF"
      }
    },
    {
      "cell_type": "code",
      "execution_count": null,
      "metadata": {
        "id": "CTZpHPkbfkno"
      },
      "outputs": [],
      "source": [
        "# a = \"ola\"\n",
        "# while a != \"oi\":\n",
        "#     print(a)\n",
        "\n",
        "# a = \"ola\"\n",
        "# while a <> \"oi\":\n",
        "#     print(a)"
      ]
    },
    {
      "cell_type": "code",
      "source": [
        "a = input('Cadastre seu nome: ')\n",
        "b = input('Cadastre uma senha: ')\n",
        "\n",
        "while a == b:\n",
        "    print('A senha não pode ser igual ao nome!')\n",
        "    a = input('Cadastre seu nome: ')\n",
        "    b = input('Cadastre uma senha: ')\n",
        "\n",
        "print('Cadastro realizado com sucesso!')"
      ],
      "metadata": {
        "id": "qQu7rcDkhcQc"
      },
      "execution_count": null,
      "outputs": []
    }
  ]
}