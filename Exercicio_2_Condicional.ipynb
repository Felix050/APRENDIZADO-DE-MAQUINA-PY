{
  "nbformat": 4,
  "nbformat_minor": 0,
  "metadata": {
    "colab": {
      "provenance": [],
      "authorship_tag": "ABX9TyNx7xWmCrWWuT2Qtf4AteLV",
      "include_colab_link": true
    },
    "kernelspec": {
      "name": "python3",
      "display_name": "Python 3"
    },
    "language_info": {
      "name": "python"
    }
  },
  "cells": [
    {
      "cell_type": "markdown",
      "metadata": {
        "id": "view-in-github",
        "colab_type": "text"
      },
      "source": [
        "<a href=\"https://colab.research.google.com/github/Felix050/APRENDIZADO-DE-MAQUINA-PY/blob/master/Exercicio_2_Condicional.ipynb\" target=\"_parent\"><img src=\"https://colab.research.google.com/assets/colab-badge.svg\" alt=\"Open In Colab\"/></a>"
      ]
    },
    {
      "cell_type": "code",
      "execution_count": 14,
      "metadata": {
        "id": "QWy_cjvoRbDL"
      },
      "outputs": [],
      "source": [
        "#x = int(input(\"Please enter an integer: \"))\n",
        "#y = int(input(\"Please other integer: \"))\n",
        "#if x < 0 and y > 0:\n",
        "#     x = 0\n",
        "#     print('Negative changed to zero')\n",
        "#elif x == 0 or y == 0:\n",
        "#     print('Zero')\n",
        "#elif x == 1:\n",
        "#     print('Single')\n",
        "#else:\n",
        "#     print('More')\n",
        "#A - Entre 9.0 e 10.0\n",
        "#B - Entre 7.5 e 9.0\n",
        "#C - Entre 6.0 e 7.5\n",
        "#D - Entre 4.0 e 6.0\n",
        "#E - Entre 4.0 e zero"
      ]
    },
    {
      "cell_type": "code",
      "source": [
        "x = float(input(\"Insira sua primeira nota na disciplina: \"))\n",
        "y = float(input(\"Insira sua segunda nota na disciplina: \"))\n",
        "if x < 0 and y > 0:\n",
        "     x = 0\n",
        "     print('Nota invalida')\n",
        "elif x > 10 or y > 10:\n",
        "    print('Nota invalida')\n",
        "elif x >= 9.0 and y >= 9.0:\n",
        "    print('A')\n",
        "elif x >= 7.5 and y >= 7.5:\n",
        "    print('B')\n",
        "elif x >= 6.0 and y >= 6.0:\n",
        "    print('C')\n",
        "elif x >= 4.0 and y >= 4.0:\n",
        "    print('D')\n",
        "elif x >= 0 and y >= 0:\n",
        "    print('E')\n",
        "else:\n",
        "    print('insira novamente')\n"
      ],
      "metadata": {
        "colab": {
          "base_uri": "https://localhost:8080/"
        },
        "id": "HyznIDfySw2t",
        "outputId": "fb96625d-302a-44c7-d2b2-b8e79024f257"
      },
      "execution_count": 28,
      "outputs": [
        {
          "output_type": "stream",
          "name": "stdout",
          "text": [
            "Insira sua primeira nota na disciplina: 0\n",
            "Insira sua segunda nota na disciplina: 10\n",
            "E\n"
          ]
        }
      ]
    },
    {
      "cell_type": "markdown",
      "source": [],
      "metadata": {
        "id": "zJEqZptqX99K"
      }
    }
  ]
}