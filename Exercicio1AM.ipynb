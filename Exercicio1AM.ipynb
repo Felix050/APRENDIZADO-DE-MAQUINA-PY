{
  "nbformat": 4,
  "nbformat_minor": 0,
  "metadata": {
    "colab": {
      "provenance": [],
      "authorship_tag": "ABX9TyOjUQi3/8iFqsW7f1sdCkRY",
      "include_colab_link": true
    },
    "kernelspec": {
      "name": "python3",
      "display_name": "Python 3"
    },
    "language_info": {
      "name": "python"
    }
  },
  "cells": [
    {
      "cell_type": "markdown",
      "metadata": {
        "id": "view-in-github",
        "colab_type": "text"
      },
      "source": [
        "<a href=\"https://colab.research.google.com/github/Felix050/APRENDIZADO-DE-MAQUINA-PY/blob/master/Exercicio1AM.ipynb\" target=\"_parent\"><img src=\"https://colab.research.google.com/assets/colab-badge.svg\" alt=\"Open In Colab\"/></a>"
      ]
    },
    {
      "cell_type": "code",
      "execution_count": null,
      "metadata": {
        "id": "q1-FRmwgG80B"
      },
      "outputs": [],
      "source": [
        "# Exercicio 1\n",
        "# a = int(input(\"Lendo um número: \"))\n",
        "# print(\"imprimindo o numero\", a)"
      ]
    },
    {
      "cell_type": "code",
      "source": [
        "del print\n",
        "\n",
        "a = int(input(\"Quanto é seu salario por hora: \"))\n",
        "b = int(input(\"Quantas horas você trabalha por mês:\"))\n",
        "salb = a * b\n",
        "print(\"Esse é seu salario bruto: \", salb)"
      ],
      "metadata": {
        "colab": {
          "base_uri": "https://localhost:8080/"
        },
        "collapsed": true,
        "id": "4cUIMaWhHGSy",
        "outputId": "840b637f-ff14-4e95-e114-66e84c68184e"
      },
      "execution_count": null,
      "outputs": [
        {
          "output_type": "stream",
          "name": "stdout",
          "text": [
            "Quanto é seu salario por hora: 10\n",
            "Quantas horas você trabalha por mês:176\n",
            "Esse é seu salario bruto:  1760\n"
          ]
        }
      ]
    },
    {
      "cell_type": "code",
      "source": [
        "inss = float(salb * 11)/100\n",
        "print(\"Esse é o desconto do inss: \", inss)\n"
      ],
      "metadata": {
        "colab": {
          "base_uri": "https://localhost:8080/"
        },
        "id": "y6VTSs2GHtpa",
        "outputId": "dec288a8-ad02-48e6-b931-413a6efaa978"
      },
      "execution_count": null,
      "outputs": [
        {
          "output_type": "stream",
          "name": "stdout",
          "text": [
            "Esse é o desconto do inss:  193.6\n"
          ]
        }
      ]
    },
    {
      "cell_type": "code",
      "source": [
        "ir = float((salb - inss)*8)/100\n",
        "print(\"Esse é o desconto do imposto de renda: \", ir)\n"
      ],
      "metadata": {
        "colab": {
          "base_uri": "https://localhost:8080/"
        },
        "id": "Gv4FxjNYNmFC",
        "outputId": "a84fc70d-89b5-42f0-d62f-66d0c09d83fc"
      },
      "execution_count": null,
      "outputs": [
        {
          "output_type": "stream",
          "name": "stdout",
          "text": [
            "Esse é o desconto do imposto de renda:  125.31200000000001\n"
          ]
        }
      ]
    },
    {
      "cell_type": "code",
      "source": [
        "del print\n",
        "\n",
        "sind = float((salb - inss - ir)*5)/100\n",
        "print(\"Esse é o desconto do sindicato: \", sind)"
      ],
      "metadata": {
        "colab": {
          "base_uri": "https://localhost:8080/"
        },
        "id": "BZ1Uxdu7Nqv5",
        "outputId": "d5054ded-ad87-4dad-ce82-d8e8dec960ca"
      },
      "execution_count": null,
      "outputs": [
        {
          "output_type": "stream",
          "name": "stdout",
          "text": [
            "Esse é o desconto do sindicato:  72.0544\n"
          ]
        }
      ]
    },
    {
      "cell_type": "code",
      "source": [
        "sall = salb - inss - ir - sind\n",
        "print(\"Esse é seu salario liquido: \", sall)"
      ],
      "metadata": {
        "colab": {
          "base_uri": "https://localhost:8080/"
        },
        "id": "Nvk6ok1lNs4T",
        "outputId": "4a568a8a-5608-4b21-eed4-4f6850ecc975"
      },
      "execution_count": null,
      "outputs": [
        {
          "output_type": "stream",
          "name": "stdout",
          "text": [
            "Esse é seu salario liquido:  1369.0336000000002\n"
          ]
        }
      ]
    }
  ]
}